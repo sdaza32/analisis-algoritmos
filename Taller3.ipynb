{
  "nbformat": 4,
  "nbformat_minor": 0,
  "metadata": {
    "colab": {
      "name": "Taller3.ipynb",
      "version": "0.3.2",
      "provenance": []
    },
    "kernelspec": {
      "name": "python3",
      "display_name": "Python 3"
    }
  },
  "cells": [
    {
      "metadata": {
        "id": "MpUld18nfFuu",
        "colab_type": "text"
      },
      "cell_type": "markdown",
      "source": [
        "# Taller N-3\n",
        "\n",
        "1. Diseñe un algoritmo que permite seleccionar las estatuas que transportarán maximizando la utilidad y\n",
        "sin exceder la capacidad del barco. Documente y describa claramente el algoritmo propuesto y como este\n",
        "soluciona el problema.\n",
        "\n",
        "\n",
        "> a)\n",
        "\n"
      ]
    },
    {
      "metadata": {
        "id": "gZn8kWhDcJIF",
        "colab_type": "code",
        "colab": {
          "base_uri": "https://localhost:8080/",
          "height": 254
        },
        "outputId": "d99765e8-00dd-4159-c59a-732fa3ceb88a"
      },
      "cell_type": "code",
      "source": [
        "import random\n",
        "\n",
        "def sumaEstat(escA, n):\n",
        "    if(n == 0):                                                                 # Valida si no tiene elementos                                                         \n",
        "        return escA[n]                                                          # Retorna los elementos\n",
        "    else:                                                                       \n",
        "        return escA[n] + sumaEstat(escA, n-1)                                   # Se suman los valores del arreglo recursivamente\n",
        "\n",
        "maxBar = 25000                                                                  # Limite de Carga del Barco\n",
        "\n",
        "for k in range(0,3):                                                            # Tres Escavaciones\n",
        "    n = int(input(\"Número de Estatuas: \"))                                      # Cantidad de estatuas\n",
        "    escA = [None] * n                                                           # Inicializamos el arreglo\n",
        "\n",
        "    for i in range(0, n):                                                       # Ingresamos la cantidad de estatuas\n",
        "        escA[i] = random.randint(1, 100)                                        # Se tienen números aleatorio del Peso de cada Estatua \n",
        "        #print(str(escA[i]))\n",
        "    \n",
        "    totalEst = sumaEstat(escA, n-1)                                             # Llamamos el metodo de sumar y le pasamos como parametros el arreglo y cantidad de estatuas -1\n",
        "    \n",
        "    if(totalEst > maxBar):                                                      # Validamos si supera el Limite de Carga del Barco.\n",
        "      print(\"¡La carga supera el limite del Barco!\")\n",
        "    \n",
        "    print(\"Excavación \" + str(k) + \" \\nCantidad de estatuas: \" + str(n) + \" \\nTotal de peso: \" + str(totalEst)) #Datos detallados.\n",
        "    \n",
        "    # El algoritmo ingresa la cantidad de estatual y el peso de las estatuas con valores enteros que son los kg. Este proceso lo itera con las tres escavaciones propuestas\n",
        "    # en el ejercicio. Valida si la sumatoria de las estatuas no superen la carga del Barco.\n",
        "    # El limite del barco se asigna en una variable estatica."
      ],
      "execution_count": 36,
      "outputs": [
        {
          "output_type": "stream",
          "text": [
            "Número de Estatuas: 500\n",
            "¡La carga supera el limite del Barco!\n",
            "Excavación 0 \n",
            "Cantidad de estatuas: 500 \n",
            "Total de peso: 25522\n",
            "Número de Estatuas: 100\n",
            "Excavación 1 \n",
            "Cantidad de estatuas: 100 \n",
            "Total de peso: 4973\n",
            "Número de Estatuas: 250\n",
            "Excavación 2 \n",
            "Cantidad de estatuas: 250 \n",
            "Total de peso: 12533\n"
          ],
          "name": "stdout"
        }
      ]
    },
    {
      "metadata": {
        "id": "x_g8gr0iQY5b",
        "colab_type": "text"
      },
      "cell_type": "markdown",
      "source": [
        "\n",
        "\n",
        "> b) Realice el análisis de complejidad del algoritmo propuesto.\n",
        "\n",
        "Caso Base:\n",
        "\\begin{equation}T(1) = 1\\leq 1^{2}\\end{equation}\n",
        "\\begin{equation}Supongamos\\hspace{1em}T(n) \\leq n^{2}\\end{equation}\n",
        "\\begin{equation}Demostramos\\hspace{1em}T(n+1)\\end{equation}\n",
        "\\begin{equation}=n+1+T(n)\\end{equation}\n",
        "\\begin{equation}\\leq n+1+n^{2}\\end{equation}\n",
        "\\begin{equation}=(n+1)^{2}\\end{equation}\n",
        "\n",
        "\n",
        "---\n",
        "\n",
        "\n",
        "\\begin{equation}T(n) = T(n-1)+n=T(n-2)+n+(n-1)=....=T(n-k)+\\sum_{i=n-k+1}^{n}i\\end{equation}\n",
        "\n",
        "\\begin{equation}Si \\hspace{1em} k = n,\\end{equation}\n",
        "\n",
        "\\begin{equation}T(n)=T(0)+\\sum_{i=1}^{n}i\\hspace{1em}Por\\hspace{0.3em}lo\\hspace{0.3em}tanto,\\hspace{0.7em}T(n) \\hspace{0.5em}es\\hspace{0.5em} O(n^{2})\\end{equation}\n",
        "\n",
        "\n",
        "---\n",
        "\n",
        "2. Para cada excavación aplique el algoritmo diseñado en el punto anterior, asumiendo los siguientes escenarios\n",
        "para la capacidad de los barcos y complete la siguiente tabla 2 con los resultados del algoritmo:\n"
      ]
    },
    {
      "metadata": {
        "id": "vMtwDvlXYg6Y",
        "colab_type": "code",
        "colab": {
          "base_uri": "https://localhost:8080/",
          "height": 345
        },
        "outputId": "5c6549bf-f54b-4897-e778-4e3e3209a09e"
      },
      "cell_type": "code",
      "source": [
        "import random\n",
        "\n",
        "def sumaEstat(escA, n):\n",
        "    if(n == 0):  \n",
        "        return escA[n]\n",
        "    else:\n",
        "        return escA[n] + sumaEstat(escA, n-1)\n",
        "      \n",
        "def precioTotal(preA, n):\n",
        "    if(n == 0):  \n",
        "        return preA[n]\n",
        "    else:\n",
        "        return preA[n] + precioTotal(escA, n-1)\n",
        "\n",
        "maxBar = [25000,12500,30000,15000,125000,25000]\n",
        "\n",
        "escA = [148,392,224,606,915,135,483,889,650,57,493,214,785,191,85,697,835,567,839,221,382,924,300,4,887,177,214,865,392,392,201,296,180,569,763,474,237,834,82,523,769,940,951,10,55,902,371,764,832,551,409,160,233,915,862,156,418,72,931,158,774,782,684,596,567,168,716,67,110,114,301,124,24,855,391,925,539,683,725,222,412,749,127,877,609,81,675,195,385,458,376,597,521,444,571,888,788,598,120,261]\n",
        "preA = [98,31,96,100,100,66,44,37,24,9,62,77,10,51,92,96,16,12,81,66,78,97,75,92,87,80,52,94,4,58,69,30,88,9,93,38,48,56,84,66,24,98,14,57,39,42,78,37,93,24,47,28,74,60,28,38,72,98,26,5,48,50,64,72,37,39,97,97,5,23,93,72,14,52,21,22,9,16,42,28,58,87,40,94,65,22,71,18,42,5,93,18,8,68,24,61,95,22,97,16]\n",
        "\n",
        "escB = [858,182,918,832,154,874,686,823,611,60,360,615,206,652,233,854,763,493,908,411,885,773,984,946,413,37,494,861,528,506,939,71,562,633,526,508,857,852,775,635,408,576,39,579,749,370,926,400,866,234,92,27,716,130,288,886,447,288,196,932,735,479,571,385,933,483,758,560,144,814,194,911,754,839,188,952,36,679,231,134,253,614,69,227,465,689,41,229,655,182,434,992,358,478,397,587,766,239,186,83] \n",
        "preB = [51,81,57,1,74,100,50,12,61,60,60,62,52,8,15,92,99,100,93,75,51,32,82,61,42,22,98,56,12,1,37,48,73,85,89,77,20,43,29,79,77,23,66,62,49,43,100,86,31,61,9,24,62,96,48,78,73,92,61,64,80,53,90,38,88,82,13,16,75,22,65,18,25,74,28,98,88,28,67,72,24,39,96,81,74,81,85,26,57,96,91,26,73,63,74,28,97,44,96,10]\n",
        "\n",
        "escC = [101,541,867,407,993,908,519,467,378,971,392,652,643,204,262,953,585,570,753,208,791,261,104,31,642,971,911,333,239,234,107,377,179,527,204,610,263,755,537,753,127,896,336,182,82,877,492,170,507,57,452,485,162,415,915,403,948,43,89,834,292,874,84,808,772,753,402,511,571,371,725,733,650,88,619,938,247,335,459,992,27,673,496,353,143,15,988,130,775,865,105,562,782,477,316,167,600,603,597,965,939,610,186,227,375,45,103,148,617,183,763,485,499,174,136,829,392,234,245,282,147,310,633,907,170,846,572,589,380,985,437,128,163,715,205,483,611,112,47,119,612,492,862,169,386,801,154,915,50,548,850,576,917,848,4,885,502,250,381,227,492,940,741,470,211,156,475,131,305,915,785,546,113,968,523,437,780,983,931,119,709,33,98,313,548,923,784,429,243,343,814,230,30,496,872,77,357,925,712,251,429,190,94,788,426,530,865,879,389,4,509,427,46,400,907,660,816,427,7,252,821,21,551,313,240,789,568,907,329,558,131,767,195,489,431,766,386,505,478,617,605,427,83,988,828,922,269,664,71,376,836,811,214,617,581,742,790,191,125,840,46,877,928,22,8,833,312,434,692,113,944,544,294,670,594,883,231,957,702,49,935,637,366,91,583,390,212,779,20,226,180,554,620,260,193,604,45,387,374,545,970,751,618,710,467,634,36,266,925,497,711,794,268,275,104,796,15,37,836,878,374,120,815,513,426,336,327,861,54,323,808,969,900,521,17,806,110,44,983,302,886,510,491,296,72,756,975,491,971,957,871,81,955,770,190,767,51,201,125,596,499,502,723,474,574,575,418,341,256,535,729,570,527,4,210,826,772,366,965,242,24,829,232,993,259,321,860,977,291,881,878,10,94,617,17,599,59,79,785,836,560,569,681,662,937,678,977,404,278,507,689,885,195,737,985,757,182,147,714,212,426,859,826,758,364,360,472,62,779,849,896,888,309,871,988,597,629,607,855,305,863,877,500,242,541,865,156,852,345,978,332,74,740,24,861,558,130,605,893,463,265,509,59,412,981,347,199,442,637,562,944,935,576,716,268,449,26,908,945,590,342,14,809,451,285,358,249,254,713,842,492,478,217,855,690,500,558,560,167,752]\n",
        "preC = [63,7,15,3,27,29,42,82,3,15,43,80,73,42,53,59,15,47,55,16,35,3,1,16,44,50,59,53,34,9,29,28,59,64,1,58,3,36,53,29,83,83,48,9,85,17,83,64,11,41,36,91,80,46,8,81,42,51,8,8,35,29,36,25,62,66,58,93,73,82,82,14,89,18,6,99,96,34,75,43,77,53,56,55,14,82,35,15,28,12,57,56,48,17,66,41,81,25,46,24,60,34,95,37,39,28,1,2,68,20,65,50,62,69,98,69,4,53,16,21,56,65,94,2,12,2,31,71,98,57,50,68,97,31,71,43,3,79,93,12,77,54,13,52,29,61,44,36,2,40,96,55,81,10,94,74,16,37,21,73,44,59,5,33,13,10,93,73,13,58,34,99,62,49,38,97,58,30,6,12,7,43,59,61,48,76,3,19,81,94,62,95,47,38,26,60,73,9,52,41,22,47,66,20,7,41,3,82,74,61,4,70,43,79,93,16,40,61,59,44,36,25,91,57,31,14,63,82,13,81,91,61,36,61,58,71,36,25,91,63,57,92,3,73,84,61,23,25,97,43,100,37,34,80,28,28,9,50,10,95,99,89,100,95,74,14,67,97,95,81,49,5,20,94,6,3,9,6,73,20,31,76,74,50,62,86,38,49,95,22,77,72,81,36,10,72,44,4,66,74,1,3,67,48,47,45,78,4,60,50,31,24,10,68,64,67,22,64,96,56,33,42,28,25,71,73,4,46,84,68,43,16,69,51,65,29,49,88,79,21,93,61,24,86,84,71,80,61,38,24,70,100,31,40,87,90,3,63,74,99,63,88,16,1,52,100,29,79,64,26,51,88,8,64,100,21,44,21,14,75,28,10,42,23,76,69,94,85,74,54,99,50,95,95,1,21,29,66,24,21,42,73,30,71,6,71,82,82,48,13,82,32,93,99,60,14,94,12,100,79,90,45,58,77,9,21,92,59,86,23,98,32,43,18,61,11,1,32,91,13,40,58,94,96,25,18,4,30,18,59,42,80,71,6,92,32,4,66,99,72,54,56,62,72,8,38,47,70,14,48,70,35,70,11,47,99,67,13,70,82,10,91,36,10,97,48,42,94,44,24,30,28,44,43,61,57,61,14,57,59]\n",
        "\n",
        "nA = len(escA)\n",
        "nB = len(escB)\n",
        "nC = len(escC)\n",
        "\n",
        "totalEstA = sumaEstat(escA, nA-1)\n",
        "totalPreA = precioTotal(preA, nA-1)\n",
        "\n",
        "totalEstB = sumaEstat(escB, nB-1)\n",
        "totalPreB = precioTotal(preB, nB-1)\n",
        "\n",
        "totalEstC = sumaEstat(escC, nB-1)\n",
        "totalPreC = precioTotal(preC, nB-1)\n",
        "\n",
        "if(totalEst > maxBar[0] or totalEst > maxBar[1]):\n",
        "    print(\"¡La carga A supera el limite del Barco!\")\n",
        "print(\"Excavación A \\nCantidad de estatuas: \" + str(nA) + \" \\nTotal de peso: \" + str(totalEstA) + \"\\nValor de la carga: \" + str(totalPreA) + \" Dolares\\n\")\n",
        "\n",
        "if(totalEst > maxBar[2] or totalEst > maxBar[3]):\n",
        "    print(\"¡La carga B supera el limite del Barco!\")\n",
        "print(\"Excavación B \\nCantidad de estatuas: \" + str(nB) + \" \\nTotal de peso: \" + str(totalEstB) + \"\\nValor de la carga: \" + str(totalPreB) + \" Dolares\\n\")\n",
        "\n",
        "if(totalEst > maxBar[4] or totalEst > maxBar[5]):\n",
        "    print(\"¡La carga C supera el limite del Barco!\")\n",
        "print(\"Excavación C \\nCantidad de estatuas: \" + str(nC) + \" \\nTotal de peso: \" + str(totalEstC) + \"\\nValor de la carga: \" + str(totalPreC) + \" Dolares\\n\")"
      ],
      "execution_count": 43,
      "outputs": [
        {
          "output_type": "stream",
          "text": [
            "¡La carga A supera el limite del Barco!\n",
            "Excavación A \n",
            "Cantidad de estatuas: 100 \n",
            "Total de peso: 47680\n",
            "Valor de la carga: 47435 Dolares\n",
            "\n",
            "¡La carga B supera el limite del Barco!\n",
            "Excavación B \n",
            "Cantidad de estatuas: 100 \n",
            "Total de peso: 52151\n",
            "Valor de la carga: 47429 Dolares\n",
            "\n",
            "¡La carga C supera el limite del Barco!\n",
            "Excavación C \n",
            "Cantidad de estatuas: 500 \n",
            "Total de peso: 49538\n",
            "Valor de la carga: 47443 Dolares\n",
            "\n"
          ],
          "name": "stdout"
        }
      ]
    }
  ]
}