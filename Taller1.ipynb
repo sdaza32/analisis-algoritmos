{
  "nbformat": 4,
  "nbformat_minor": 0,
  "metadata": {
    "colab": {
      "name": "Taller1.ipynb",
      "version": "0.3.2",
      "provenance": [],
      "include_colab_link": true
    },
    "kernelspec": {
      "name": "python3",
      "display_name": "Python 3"
    }
  },
  "cells": [
    {
      "cell_type": "markdown",
      "metadata": {
        "id": "view-in-github",
        "colab_type": "text"
      },
      "source": [
        "<a href=\"https://colab.research.google.com/github/sdaza32/analisis-algoritmos/blob/master/Taller1.ipynb\" target=\"_parent\"><img src=\"https://colab.research.google.com/assets/colab-badge.svg\" alt=\"Open In Colab\"/></a>"
      ]
    },
    {
      "metadata": {
        "id": "Ayqgq6rQ-Uk_",
        "colab_type": "text"
      },
      "cell_type": "markdown",
      "source": [
        "# TALLER DE ALGORITMOS\n",
        "\n",
        "\n",
        "---\n",
        "\n",
        "Actividad 1\n",
        "\n",
        "\n",
        "\n"
      ]
    },
    {
      "metadata": {
        "id": "7XTZqAnElTQ5",
        "colab_type": "code",
        "colab": {}
      },
      "cell_type": "code",
      "source": [
        "import math\n",
        "import numpy as np\n",
        "import pylab as pl\n",
        "import time\n",
        "%matplotlib inline"
      ],
      "execution_count": 0,
      "outputs": []
    },
    {
      "metadata": {
        "id": "FAh3B2P0lKBl",
        "colab_type": "code",
        "colab": {}
      },
      "cell_type": "code",
      "source": [
        "class Counter:\n",
        "    def __init__(self):\n",
        "        self.steps = 0\n",
        "\n",
        "    def reset(self):\n",
        "        self.steps = 0\n",
        "\n",
        "    def count(self):\n",
        "        self.steps += 1\n",
        "\n",
        "    def print_steps(self):\n",
        "        print (\"Number of steps =\", self.steps)\n",
        "        \n",
        "def acct_insertion_sort(A, acct):\n",
        "    j = 1; acct.count()                               #      1\n",
        "    acct.count()\n",
        "    while j < len(A):                                 #      n\n",
        "        acct.count()\n",
        "        key = A[j]; acct.count()                      #      1\n",
        "        i = j - 1; acct.count()                       #      1\n",
        "        acct.count()\n",
        "        while (i >= 0) and (A[i] > key):              #      n\n",
        "            acct.count()\n",
        "            A[i + 1] = A[i]; acct.count()             #      1\n",
        "            i = i -1; acct.count()                    #      1\n",
        "        A[i + 1] = key; acct.count()                  #      1\n",
        "        j = j + 1; acct.count()                       #      1\n",
        "                                                      #   --------\n",
        "                                                      # T(n)=n^2  Complexity of the insertion sort algorithm."
      ],
      "execution_count": 0,
      "outputs": []
    },
    {
      "metadata": {
        "id": "4nWbqWgtoa90",
        "colab_type": "code",
        "colab": {}
      },
      "cell_type": "code",
      "source": [
        "def exper_analysis(n):\n",
        "    tic = time.clock()#get start time\n",
        "    results = []\n",
        "    acct = Counter()\n",
        "    for i in range(n):\n",
        "        B = np.random.permutation(range(0,i))\n",
        "        acct.reset()\n",
        "        acct_insertion_sort(B, acct)\n",
        "        results.append(acct.steps)\n",
        "    toc = time.clock()#get final time\n",
        "    print(\"Final time=\",toc)\n",
        "    return results"
      ],
      "execution_count": 0,
      "outputs": []
    },
    {
      "metadata": {
        "id": "lF6oLEOV-xfB",
        "colab_type": "code",
        "outputId": "71c9109c-224d-4d9f-cfd5-7bccf4460907",
        "colab": {
          "base_uri": "https://localhost:8080/",
          "height": 299
        }
      },
      "cell_type": "code",
      "source": [
        "pl.clf()\n",
        "x = np.arange(100)\n",
        "y = np.array(exper_analysis(100))\n",
        "pl.plot(x, y, 'k.')"
      ],
      "execution_count": 0,
      "outputs": [
        {
          "output_type": "stream",
          "text": [
            "Final time= 7.227203\n"
          ],
          "name": "stdout"
        },
        {
          "output_type": "execute_result",
          "data": {
            "text/plain": [
              "[<matplotlib.lines.Line2D at 0x7fcb17c202b0>]"
            ]
          },
          "metadata": {
            "tags": []
          },
          "execution_count": 43
        },
        {
          "output_type": "display_data",
          "data": {
            "image/png": "[encoded data removed]",
            "text/plain": [
              "<Figure size 432x288 with 1 Axes>"
            ]
          },
          "metadata": {
            "tags": []
          }
        }
      ]
    },
    {
      "metadata": {
        "id": "JwRh71kQC9-U",
        "colab_type": "text"
      },
      "cell_type": "markdown",
      "source": [
        "\n",
        "\n",
        "---\n",
        "Actividad 2\n"
      ]
    },
    {
      "metadata": {
        "id": "4boPiTd0xKxd",
        "colab_type": "code",
        "colab": {}
      },
      "cell_type": "code",
      "source": [
        "class Counter:\n",
        "    def __init__(self):\n",
        "        self.steps = 0\n",
        "\n",
        "    def reset(self):\n",
        "        self.steps = 0\n",
        "\n",
        "    def count(self):\n",
        "        self.steps += 1\n",
        "\n",
        "    def print_steps(self):\n",
        "        print (\"Number of steps =\", self.steps)\n",
        "        \n",
        "def mergeSort(alist, acct):\n",
        "    acct.count()\n",
        "    if len(alist)>1:                                         #     1\n",
        "        acct.count()              \n",
        "        mid = len(alist)//2                                  #     1\n",
        "        acct.count()\n",
        "        lefthalf = alist[:mid]                               #     1\n",
        "        acct.count()\n",
        "        righthalf = alist[mid:]                              #     1\n",
        "        acct.count()\n",
        "        mergeSort(lefthalf, acct)                            #     1\n",
        "        acct.count()\n",
        "        mergeSort(righthalf, acct)                           #     1\n",
        "        acct.count()\n",
        "        i=0                                                  #     1\n",
        "        j=0                                                  #     1\n",
        "        k=0                                                  #     1\n",
        "        acct.count()\n",
        "        while i < len(lefthalf) and j < len(righthalf):      #     n\n",
        "            acct.count()\n",
        "            if lefthalf[i] < righthalf[j]:                   #     1\n",
        "                acct.count()\n",
        "                alist[k]=lefthalf[i]                         #     1\n",
        "                acct.count()\n",
        "                i=i+1                                        #     1\n",
        "            else:\n",
        "                acct.count()\n",
        "                alist[k]=righthalf[j]                        #     1\n",
        "                acct.count()\n",
        "                j=j+1                                        #     1\n",
        "            acct.count()\n",
        "            k=k+1                                            #     1\n",
        "            acct.count()\n",
        "        while i < len(lefthalf):                             #     n\n",
        "            acct.count()\n",
        "            alist[k]=lefthalf[i]                             #     1\n",
        "            acct.count()\n",
        "            i=i+1                                            #     1\n",
        "            acct.count()\n",
        "            k=k+1                                            #     1\n",
        "            acct.count()\n",
        "        while j < len(righthalf):                            #     n\n",
        "            acct.count()\n",
        "            alist[k]=righthalf[j]                            #     1\n",
        "            acct.count()\n",
        "            j=j+1                                            #     1\n",
        "            acct.count()\n",
        "            k=k+1                                            #     1\n",
        "                                                           # ---------------\n",
        "                                                           # T(n)=O(nLogn)\n",
        "            \n",
        "def exper_analysis(n):\n",
        "    tic = time.clock()#get start time\n",
        "    results = []\n",
        "    acct = Counter()\n",
        "    for i in range(n):\n",
        "        B = np.random.permutation(range(0,i))\n",
        "        acct.reset()\n",
        "        mergeSort(B,acct)\n",
        "        results.append(acct.steps)\n",
        "    toc = time.clock()#get final time\n",
        "    print(\"Final time=\",toc)\n",
        "    return results"
      ],
      "execution_count": 0,
      "outputs": []
    },
    {
      "metadata": {
        "id": "jrxfamakxU6s",
        "colab_type": "code",
        "outputId": "75bbe662-a9c0-4bdc-c2a2-1437b2930301",
        "colab": {
          "base_uri": "https://localhost:8080/",
          "height": 301
        }
      },
      "cell_type": "code",
      "source": [
        "pl.clf()\n",
        "x = np.arange(100)\n",
        "y = np.array(exper_analysis(100))\n",
        "pl.plot(x, y, 'k.')"
      ],
      "execution_count": 0,
      "outputs": [
        {
          "output_type": "stream",
          "text": [
            "Final time= 5.454277\n"
          ],
          "name": "stdout"
        },
        {
          "output_type": "execute_result",
          "data": {
            "text/plain": [
              "[<matplotlib.lines.Line2D at 0x7f0784cfa048>]"
            ]
          },
          "metadata": {
            "tags": []
          },
          "execution_count": 13
        },
        {
          "output_type": "display_data",
          "data": {
            "image/png": "[encoded data removed]",
            "text/plain": [
              "<Figure size 432x288 with 1 Axes>"
            ]
          },
          "metadata": {
            "tags": []
          }
        }
      ]
    },
    {
      "metadata": {
        "id": "Yfw8mncvxa0v",
        "colab_type": "text"
      },
      "cell_type": "markdown",
      "source": [
        "\n",
        "\n",
        "---\n",
        "\n",
        "Actividad 3"
      ]
    },
    {
      "metadata": {
        "id": "uMTOrNU9xgnq",
        "colab_type": "code",
        "colab": {}
      },
      "cell_type": "code",
      "source": [
        "class Counter:\n",
        "    def __init__(self):\n",
        "        self.steps = 0\n",
        "\n",
        "    def reset(self):\n",
        "        self.steps = 0\n",
        "\n",
        "    def count(self):\n",
        "        self.steps += 1\n",
        "\n",
        "    def print_steps(self):\n",
        "        print (\"Number of steps =\", self.steps)\n",
        "        \n",
        "def quickSort(alist, acct):\n",
        "    acct.count()\n",
        "    quickSortHelper(alist,0,len(alist)-1,acct)\n",
        "\n",
        "def quickSortHelper(alist,first,last,acct):\n",
        "    acct.count()\n",
        "    if first<last:\n",
        "        acct.count()\n",
        "        splitpoint = partition(alist,first,last,acct)\n",
        "        acct.count()\n",
        "        quickSortHelper(alist,first,splitpoint-1,acct)\n",
        "        acct.count()\n",
        "        quickSortHelper(alist,splitpoint+1,last,acct)\n",
        "\n",
        "def partition(alist,first,last,acct):\n",
        "    acct.count()                                                      #      1\n",
        "    pivotvalue = alist[first]                                         #      1\n",
        "    acct.count()\n",
        "    leftmark = first+1                                                #      1\n",
        "    acct.count()\n",
        "    rightmark = last                                                  #      1\n",
        "    \n",
        "    acct.count()\n",
        "    done = False                                                      #      1\n",
        "    acct.count()\n",
        "    while not done:                                                   #      n\n",
        "        acct.count()\n",
        "        while leftmark <= rightmark and alist[leftmark] <= pivotvalue:#      n\n",
        "            acct.count()\n",
        "            leftmark = leftmark + 1                                   #      1\n",
        "            acct.count()\n",
        "        while alist[rightmark] >= pivotvalue and rightmark >= leftmark:#     n\n",
        "            acct.count()\n",
        "            rightmark = rightmark -1                                  #      1\n",
        "            acct.count()\n",
        "        if rightmark < leftmark:                                      #      1\n",
        "            acct.count()\n",
        "            done = True                                               #      1\n",
        "            acct.count()\n",
        "        else:\n",
        "            acct.count()\n",
        "            temp = alist[leftmark]                                    #      1\n",
        "            acct.count()\n",
        "            alist[leftmark] = alist[rightmark]                        #      1\n",
        "            acct.count()\n",
        "            alist[rightmark] = temp                                   #      1\n",
        "            acct.count()                                              # ------------\n",
        "                                                                      #T(n)=O(nLogn)   Peor de los Casos T(n)=O(n^2)\n",
        "    temp = alist[first]\n",
        "    acct.count()\n",
        "    alist[first] = alist[rightmark]\n",
        "    acct.count()\n",
        "    alist[rightmark] = temp\n",
        "    acct.count()\n",
        "    return rightmark"
      ],
      "execution_count": 0,
      "outputs": []
    },
    {
      "metadata": {
        "id": "GJkpTh5oxqaC",
        "colab_type": "code",
        "colab": {}
      },
      "cell_type": "code",
      "source": [
        "def exper_analysis(n):\n",
        "    tic = time.clock()#get start time\n",
        "    results = []\n",
        "    acct = Counter()\n",
        "    for i in range(n):\n",
        "        B = np.random.permutation(range(0,i))\n",
        "        acct.reset()\n",
        "        quickSort(B, acct)\n",
        "        results.append(acct.steps)\n",
        "    toc = time.clock()#get final time\n",
        "    print(\"Final time=\",toc)\n",
        "    return results"
      ],
      "execution_count": 0,
      "outputs": []
    },
    {
      "metadata": {
        "id": "tczp5rhHx_a7",
        "colab_type": "code",
        "outputId": "66b570e4-d55a-4b0a-831d-6e9f3ba191fc",
        "colab": {
          "base_uri": "https://localhost:8080/",
          "height": 302
        }
      },
      "cell_type": "code",
      "source": [
        "pl.clf()\n",
        "x = np.arange(100)\n",
        "y = np.array(exper_analysis(100))\n",
        "pl.plot(x, y, 'k.')"
      ],
      "execution_count": 0,
      "outputs": [
        {
          "output_type": "stream",
          "text": [
            "Final time= 4.988578\n"
          ],
          "name": "stdout"
        },
        {
          "output_type": "execute_result",
          "data": {
            "text/plain": [
              "[<matplotlib.lines.Line2D at 0x7f0784d1b5f8>]"
            ]
          },
          "metadata": {
            "tags": []
          },
          "execution_count": 12
        },
        {
          "output_type": "display_data",
          "data": {
            "image/png": "[encoded data removed]",
            "text/plain": [
              "<Figure size 432x288 with 1 Axes>"
            ]
          },
          "metadata": {
            "tags": []
          }
        }
      ]
    },
    {
      "metadata": {
        "id": "n-K-lt8325IE",
        "colab_type": "text"
      },
      "cell_type": "markdown",
      "source": [
        "\n",
        "\n",
        "---\n",
        "\n",
        "# Conclusiones\n",
        "\n",
        "\n",
        "```\n",
        "# El algoritmo de ordenamiento quickSort tomo menos tiempo que el inserSort y MergeSort.\n",
        "# El algorito de ordenamiento quickSort, en la grafica tiene una linea más recta e inclinada.\n",
        "# El ordenamiento por inserción es más eficiente si el arreglo esta casi ordenado.\n",
        "\n",
        "```\n",
        "\n"
      ]
    }
  ]
}