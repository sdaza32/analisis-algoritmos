{
  "nbformat": 4,
  "nbformat_minor": 0,
  "metadata": {
    "colab": {
      "name": "Untitled2.ipynb",
      "version": "0.3.2",
      "provenance": [],
      "collapsed_sections": []
    },
    "kernelspec": {
      "name": "python3",
      "display_name": "Python 3"
    }
  },
  "cells": [
    {
      "metadata": {
        "id": "ov8d79xIDwM8",
        "colab_type": "code",
        "colab": {}
      },
      "cell_type": "code",
      "source": [
        ""
      ],
      "execution_count": 0,
      "outputs": []
    },
    {
      "metadata": {
        "id": "g-LL2KzwD3mG",
        "colab_type": "text"
      },
      "cell_type": "markdown",
      "source": [
        "# PARCIAL CORTE 2\n",
        "\n",
        "## 1\n",
        "\n",
        "ALTURA DEL ÁRBOL\n",
        "\\begin{equation}log_{3}n\\end{equation}\n",
        "NÚMERO DE HOJAS\n",
        "\\begin{equation}n^{log_{3}3}\\end{equation}\n",
        "ECUACIÓN DE RECURRENCIA\n",
        "\\begin{equation}T(n) = 3T(n/3)+cn^{3}\\end{equation}\n",
        "Asintóticamente el tiempo de ejecución\n",
        "\\begin{equation}\\ominus(n^{3})\\end{equation} \n",
        "\n",
        "\n",
        "## 2\n",
        "## 2.1\n",
        "\\begin{equation}T(n)=4T(\\frac{n}{2})+\\frac{n^{2}}{lgn}\\end{equation}\n",
        "##2.2\n",
        "\\begin{equation}T(n)=O(nlogn)\\end{equation}\n",
        "\n",
        "\n",
        "## 3\n",
        "###3.1\n",
        "\\begin{equation}T(n)=\\end{equation}\n",
        "\n",
        "###3.3\n",
        "\\begin{equation}T(n)=4T(\\frac{n}{2})+\\frac{n^{2}}{lgn}\\end{equation}\n",
        "\n",
        "##4\n",
        "\\begin{equation}T(n)=4T(\\frac{n}{2})+n^{2}\\end{equation} \n",
        "\n",
        "\\begin{equation}= n^{2} + 4[4T(\\frac{n}{4}) + \\frac{n^{2}}{4}]\\end{equation} \n",
        " \\begin{equation} = 2n^{2} + 16T(\\frac{n}{4})\\end{equation}\n",
        "  \\begin{equation}   = ... \\end{equation} \n",
        "    \\begin{equation} = k⋅n^{2} + 4^{k}T(\\frac{n}{2^k}) \\end{equation} \n",
        "   \\begin{equation}  = ...\\end{equation} \n",
        "   \n",
        "   \\begin{equation}k = log_{2}n\\end{equation}\n",
        "   \\begin{equation}T(n)=O(n^{2}logn)\\end{equation}\n",
        "   \n",
        "##4.1\n",
        " \n",
        " Respuesta correcta \"B)\"\n",
        " \n",
        "##4.2\n",
        " \n",
        " Respuesta correcta \"D)\"\n",
        " \\begin{equation}T(n)=O(n^{2}logn)\\end{equation}"
      ]
    }
  ]
}