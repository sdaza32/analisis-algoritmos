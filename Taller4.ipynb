{
  "nbformat": 4,
  "nbformat_minor": 0,
  "metadata": {
    "colab": {
      "name": "Taller4.ipynb",
      "version": "0.3.2",
      "provenance": [],
      "collapsed_sections": []
    },
    "kernelspec": {
      "name": "python3",
      "display_name": "Python 3"
    }
  },
  "cells": [
    {
      "cell_type": "markdown",
      "metadata": {
        "id": "hf_yieU1kN29",
        "colab_type": "text"
      },
      "source": [
        "##TALLER4 - ALGORITMOS VORACES\n",
        "\n",
        "ALGORITMO GREEDY"
      ]
    },
    {
      "cell_type": "code",
      "metadata": {
        "id": "ez_1HYrakhkP",
        "colab_type": "code",
        "colab": {}
      },
      "source": [
        "import math\n",
        "import numpy as np\n",
        "import pylab as pl\n",
        "import time\n",
        "%matplotlib inline\n",
        "\n",
        "class Counter:\n",
        "    def __init__(self):\n",
        "        self.steps = 0\n",
        "\n",
        "    def reset(self):\n",
        "        self.steps = 0\n",
        "\n",
        "    def count(self):\n",
        "        self.steps += 1\n",
        "\n",
        "    def print_steps(self):\n",
        "        print (\"Number of steps =\", self.steps)\n",
        "\n",
        "\n",
        "def greedy_activity_sector(s, f, acct): \n",
        "    n = len(f)\n",
        "    acct.count()\n",
        "    k = 0\n",
        "    acct.count()\n",
        "  \n",
        "    for m in range(n):\n",
        "        acct.count()\n",
        "        if s[m] >= f[k]: \n",
        "            acct.count()\n",
        "            k = m\n",
        "            acct.count()"
      ],
      "execution_count": 0,
      "outputs": []
    },
    {
      "cell_type": "code",
      "metadata": {
        "id": "TPsaLudskMds",
        "colab_type": "code",
        "colab": {}
      },
      "source": [
        "def exper_analysis(n):\n",
        "    tic = time.clock()#get start time\n",
        "    results = []\n",
        "    acct = Counter()\n",
        "    for i in range(0,n,2):\n",
        "        s = [[np.random.randint(1,10) for row in range(i)] for col in range(i)]\n",
        "        f = [[np.random.randint(1,10) for row in range(i)] for col in range(i)]\n",
        "        acct.reset()\n",
        "        greedy_activity_sector(s, f, acct)\n",
        "        results.append(acct.steps)\n",
        "    toc = time.clock()#get final time\n",
        "    print(\"Final time=\",toc)\n",
        "    return results"
      ],
      "execution_count": 0,
      "outputs": []
    },
    {
      "cell_type": "code",
      "metadata": {
        "id": "OzFlDj-27qFw",
        "colab_type": "code",
        "colab": {
          "base_uri": "https://localhost:8080/",
          "height": 302
        },
        "outputId": "aedc5000-ca50-42c6-90d6-31630fbd8ac7"
      },
      "source": [
        "pl.clf()\n",
        "x = np.arange(50)\n",
        "y = np.array(exper_analysis(100))\n",
        "pl.plot(x, y, 'k.')"
      ],
      "execution_count": 15,
      "outputs": [
        {
          "output_type": "stream",
          "text": [
            "Final time= 5.81438\n"
          ],
          "name": "stdout"
        },
        {
          "output_type": "execute_result",
          "data": {
            "text/plain": [
              "[<matplotlib.lines.Line2D at 0x7f33b078f6a0>]"
            ]
          },
          "metadata": {
            "tags": []
          },
          "execution_count": 15
        },
        {
          "output_type": "display_data",
          "data": {
            "image/png": "[encoded data removed]",
            "text/plain": [
              "<Figure size 432x288 with 1 Axes>"
            ]
          },
          "metadata": {
            "tags": []
          }
        }
      ]
    },
    {
      "cell_type": "markdown",
      "metadata": {
        "id": "uMRbhltmBmI_",
        "colab_type": "text"
      },
      "source": [
        "ALGORITMO GREEDY RECURSIVO"
      ]
    },
    {
      "cell_type": "code",
      "metadata": {
        "id": "tRsbbH7Orjcu",
        "colab_type": "code",
        "outputId": "48c4c4d6-d774-4a37-8fa1-3169e5d187c7",
        "colab": {
          "base_uri": "https://localhost:8080/",
          "height": 302
        }
      },
      "source": [
        "class Counter:\n",
        "    def __init__(self):\n",
        "        self.steps = 0\n",
        "\n",
        "    def reset(self):\n",
        "        self.steps = 0\n",
        "\n",
        "    def count(self):\n",
        "        self.steps += 1\n",
        "\n",
        "    def print_steps(self):\n",
        "        print (\"Number of steps =\", self.steps)\n",
        "        \n",
        "\n",
        "def recursive_activity_selector(s, f, k, n, acct):\n",
        "    acct.count()\n",
        "    m = k+1\n",
        "    acct.count()\n",
        "    while m <= n and s[m] < f[k]:\n",
        "        acct.count()\n",
        "        m = m+1\n",
        "    acct.count()\n",
        "    if m <= n:\n",
        "        acct.count()\n",
        "        r = recursive_activity_selector(s, f, m, n, acct)\n",
        "        acct.count()\n",
        "        return r\n",
        "    else:\n",
        "        acct.count()\n",
        "        return []\n",
        "\n",
        "\n",
        "def exper_analysis_r(n):\n",
        "    tic = time.clock()#get start time\n",
        "    results = []\n",
        "    acct = Counter()\n",
        "    for i in range(0,n,2):\n",
        "        s = [[np.random.randint(1,10) for row in range(i)] for col in range(i)]\n",
        "        f = [[np.random.randint(1,10) for row in range(i)] for col in range(i)]\n",
        "        acct.reset()\n",
        "        recursive_activity_selector(s, f, 0, len(s)-1, acct)\n",
        "        results.append(acct.steps)\n",
        "    toc = time.clock()#get final time\n",
        "    print(\"Final time=\",toc)\n",
        "    return results\n",
        "  \n",
        "pl.clf()\n",
        "x = np.arange(50)\n",
        "y = np.array(exper_analysis_r(100))\n",
        "pl.plot(x, y, 'k.')"
      ],
      "execution_count": 14,
      "outputs": [
        {
          "output_type": "stream",
          "text": [
            "Final time= 4.943479\n"
          ],
          "name": "stdout"
        },
        {
          "output_type": "execute_result",
          "data": {
            "text/plain": [
              "[<matplotlib.lines.Line2D at 0x7f33b07c5550>]"
            ]
          },
          "metadata": {
            "tags": []
          },
          "execution_count": 14
        },
        {
          "output_type": "display_data",
          "data": {
            "image/png": "[encoded data removed]",
            "text/plain": [
              "<Figure size 432x288 with 1 Axes>"
            ]
          },
          "metadata": {
            "tags": []
          }
        }
      ]
    }
  ]
}